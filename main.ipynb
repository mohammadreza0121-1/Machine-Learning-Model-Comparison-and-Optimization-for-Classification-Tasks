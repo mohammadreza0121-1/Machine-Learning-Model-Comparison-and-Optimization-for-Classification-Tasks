{
  "nbformat": 4,
  "nbformat_minor": 0,
  "metadata": {
    "colab": {
      "provenance": [],
      "gpuType": "T4"
    },
    "kernelspec": {
      "name": "ir",
      "display_name": "R"
    },
    "language_info": {
      "name": "R"
    },
    "accelerator": "GPU"
  },
  "cells": [
    {
      "cell_type": "code",
      "execution_count": 1,
      "metadata": {
        "colab": {
          "base_uri": "https://localhost:8080/"
        },
        "id": "K1cwVg1civoB",
        "outputId": "66c3eb09-825d-4576-dce4-46718694c288"
      },
      "outputs": [
        {
          "output_type": "stream",
          "name": "stderr",
          "text": [
            "Installing package into ‘/usr/local/lib/R/site-library’\n",
            "(as ‘lib’ is unspecified)\n",
            "\n",
            "also installing the dependencies ‘listenv’, ‘parallelly’, ‘future’, ‘globals’, ‘shape’, ‘future.apply’, ‘numDeriv’, ‘progressr’, ‘SQUAREM’, ‘diagram’, ‘lava’, ‘prodlim’, ‘proxy’, ‘iterators’, ‘clock’, ‘gower’, ‘hardhat’, ‘ipred’, ‘timeDate’, ‘e1071’, ‘foreach’, ‘ModelMetrics’, ‘plyr’, ‘pROC’, ‘recipes’, ‘reshape2’\n",
            "\n",
            "\n",
            "Installing package into ‘/usr/local/lib/R/site-library’\n",
            "(as ‘lib’ is unspecified)\n",
            "\n",
            "Installing package into ‘/usr/local/lib/R/site-library’\n",
            "(as ‘lib’ is unspecified)\n",
            "\n",
            "Installing package into ‘/usr/local/lib/R/site-library’\n",
            "(as ‘lib’ is unspecified)\n",
            "\n",
            "Loading required package: ggplot2\n",
            "\n",
            "Loading required package: lattice\n",
            "\n",
            "randomForest 4.7-1.1\n",
            "\n",
            "Type rfNews() to see new features/changes/bug fixes.\n",
            "\n",
            "\n",
            "Attaching package: ‘randomForest’\n",
            "\n",
            "\n",
            "The following object is masked from ‘package:ggplot2’:\n",
            "\n",
            "    margin\n",
            "\n",
            "\n"
          ]
        }
      ],
      "source": [
        "# Install necessary packages\n",
        "install.packages(\"caret\")\n",
        "install.packages(\"randomForest\")\n",
        "install.packages(\"e1071\")\n",
        "install.packages(\"nnet\")\n",
        "\n",
        "# Load the libraries\n",
        "library(caret)\n",
        "library(randomForest)\n",
        "library(e1071)\n",
        "library(nnet)\n"
      ]
    },
    {
      "cell_type": "code",
      "source": [
        "\n",
        "# Load the libraries\n",
        "library(caret)\n",
        "library(randomForest)\n",
        "library(e1071)\n",
        "library(nnet)\n",
        "\n",
        "# Load the datasets\n",
        "train_data <- read.csv(\"training_set.csv\")\n",
        "test_data <- read.csv(\"test_set.csv\")\n",
        "\n",
        "# Check for missing values\n",
        "sum(is.na(train_data))\n",
        "sum(is.na(test_data))\n",
        "\n",
        "# Convert the response variable to factor (if not already)\n",
        "train_data$Y <- as.factor(train_data$Y)\n",
        "\n",
        "# Split the training data into a training set and a validation set\n",
        "set.seed(123)\n",
        "trainIndex <- createDataPartition(train_data$Y, p = .8, list = FALSE, times = 1)\n",
        "trainSet <- train_data[trainIndex,]\n",
        "valSet <- train_data[-trainIndex,]\n",
        "\n",
        "# Fit models\n",
        "set.seed(123)\n",
        "fit1 <- randomForest(Y ~ ., data=trainSet, ntree=100)\n",
        "fit2 <- svm(Y ~ ., data=trainSet, kernel='radial')\n",
        "fit3 <- nnet(Y ~ ., data=trainSet, size=10, maxit=200, decay=0.01)\n",
        "\n",
        "# Ensure the levels of predicted and actual values are the same\n",
        "pred1 <- predict(fit1, valSet)\n",
        "pred2 <- predict(fit2, valSet)\n",
        "pred3 <- predict(fit3, valSet, type = \"class\")\n",
        "\n",
        "pred1 <- factor(pred1, levels = levels(valSet$Y))\n",
        "pred2 <- factor(pred2, levels = levels(valSet$Y))\n",
        "pred3 <- factor(pred3, levels = levels(valSet$Y))\n",
        "\n",
        "# Evaluate models\n",
        "acc1 <- confusionMatrix(pred1, valSet$Y)$overall['Accuracy']\n",
        "acc2 <- confusionMatrix(pred2, valSet$Y)$overall['Accuracy']\n",
        "acc3 <- confusionMatrix(pred3, valSet$Y)$overall['Accuracy']\n",
        "\n",
        "# Compare models\n",
        "accuracies <- data.frame(Model=c('Random Forest', 'SVM', 'Neural Network'), Accuracy=c(acc1, acc2, acc3))\n",
        "print(accuracies)\n",
        "\n",
        "# Tuning the Random Forest model\n",
        "set.seed(123)\n",
        "tuned_rf <- tuneRF(trainSet[,-ncol(trainSet)], trainSet$Y, stepFactor=1.5, improve=0.01, ntreeTry=100)\n",
        "best_mtry <- tuned_rf[which.min(tuned_rf[, \"OOBError\"]), \"mtry\"]\n",
        "fit1_tuned <- randomForest(Y ~ ., data=trainSet, mtry=best_mtry, ntree=100)\n",
        "\n",
        "# Tuning the SVM model\n",
        "tuned_svm <- tune(svm, Y ~ ., data=trainSet, ranges=list(cost=10^(-1:2), gamma=c(0.01, 0.1, 1)))\n",
        "fit2_tuned <- tuned_svm$best.model\n",
        "\n",
        "# Assume Random Forest was the best model after evaluation and tuning\n",
        "final_model <- fit1_tuned\n",
        "\n",
        "# Predict on the test set\n",
        "test_predictions <- predict(final_model, test_data)\n",
        "\n",
        "# Ensure the predictions are factors with the same levels as the training data response variable\n",
        "test_predictions <- factor(test_predictions, levels = levels(train_data$Y))\n",
        "\n",
        "# Save predictions to a CSV file\n",
        "write.csv(test_predictions, \"predictions.csv\", row.names=FALSE)\n",
        "\n",
        "# Identify important variables\n",
        "important_vars <- importance(fit1_tuned)\n",
        "print(important_vars)\n"
      ],
      "metadata": {
        "colab": {
          "base_uri": "https://localhost:8080/",
          "height": 1000
        },
        "id": "N0GPs1cPwa_U",
        "outputId": "fa8bcca2-75e6-4f93-9bfb-047eca5dc02e"
      },
      "execution_count": 15,
      "outputs": [
        {
          "output_type": "display_data",
          "data": {
            "text/html": [
              "0"
            ],
            "text/markdown": "0",
            "text/latex": "0",
            "text/plain": [
              "[1] 0"
            ]
          },
          "metadata": {}
        },
        {
          "output_type": "display_data",
          "data": {
            "text/html": [
              "0"
            ],
            "text/markdown": "0",
            "text/latex": "0",
            "text/plain": [
              "[1] 0"
            ]
          },
          "metadata": {}
        },
        {
          "output_type": "stream",
          "name": "stdout",
          "text": [
            "# weights:  304\n",
            "initial  value 3227.280188 \n",
            "iter  10 value 1811.969594\n",
            "iter  20 value 1688.404409\n",
            "iter  30 value 1626.905500\n",
            "iter  40 value 1560.833987\n",
            "iter  50 value 1508.349760\n",
            "iter  60 value 1470.227174\n",
            "iter  70 value 1413.040769\n",
            "iter  80 value 1364.228224\n",
            "iter  90 value 1344.528565\n",
            "iter 100 value 1321.689293\n",
            "iter 110 value 1305.989521\n",
            "iter 120 value 1296.620821\n",
            "iter 130 value 1289.080835\n",
            "iter 140 value 1284.382432\n",
            "iter 150 value 1279.096509\n",
            "iter 160 value 1274.310002\n",
            "iter 170 value 1273.487379\n",
            "iter 180 value 1271.728394\n",
            "iter 190 value 1269.524039\n",
            "iter 200 value 1263.583122\n",
            "final  value 1263.583122 \n",
            "stopped after 200 iterations\n",
            "           Model  Accuracy\n",
            "1  Random Forest 0.7192982\n",
            "2            SVM 0.7218045\n",
            "3 Neural Network 0.6466165\n",
            "mtry = 5  OOB error = 28.42% \n",
            "Searching left ...\n",
            "mtry = 4 \tOOB error = 30.54% \n",
            "-0.07472527 0.01 \n",
            "Searching right ...\n",
            "mtry = 7 \tOOB error = 27.8% \n",
            "0.02197802 0.01 \n",
            "mtry = 10 \tOOB error = 27.55% \n",
            "0.008988764 0.01 \n",
            "    MeanDecreaseGini\n",
            "X1         26.891406\n",
            "X2          2.517564\n",
            "X3          7.125570\n",
            "X4         40.311821\n",
            "X5         53.764259\n",
            "X6         16.348659\n",
            "X7         31.793689\n",
            "X8         89.967285\n",
            "X9         19.675592\n",
            "X10       238.568688\n",
            "X11        29.425738\n",
            "X12        30.377441\n",
            "X13       111.836213\n",
            "X14        24.651883\n",
            "X15        32.884800\n",
            "X16        52.001392\n",
            "X17        55.258473\n",
            "X18        48.555465\n",
            "X19        29.247118\n",
            "X20        28.339615\n",
            "X21        19.905782\n",
            "X22        19.808182\n",
            "X23        20.802383\n",
            "X24        21.257030\n",
            "X25        20.054908\n"
          ]
        },
        {
          "output_type": "display_data",
          "data": {
            "text/plain": [
              "plot without title"
            ],
            "image/png": "[encoded data removed]"
          },
          "metadata": {
            "image/png": {
              "width": 420,
              "height": 420
            }
          }
        }
      ]
    }
  ]
}